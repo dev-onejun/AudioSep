{
 "cells": [
  {
   "cell_type": "code",
   "execution_count": 1,
   "metadata": {},
   "outputs": [],
   "source": [
    "from pathlib import Path"
   ]
  },
  {
   "cell_type": "code",
   "execution_count": null,
   "metadata": {},
   "outputs": [],
   "source": [
    "repo_path = Path(\"/content/AudioSep\")\n",
    "if not repo_path.exists():\n",
    "    !git clone https://github.com/Audio-AGI/AudioSep.git\n",
    "\n",
    "%cd /content/AudioSep"
   ]
  },
  {
   "cell_type": "code",
   "execution_count": 2,
   "metadata": {
    "collapsed": true,
    "id": "pjIhw5ECS_3_",
    "jupyter": {
     "outputs_hidden": true
    },
    "tags": []
   },
   "outputs": [
    {
     "name": "stdout",
     "output_type": "stream",
     "text": [
      "Requirement already satisfied: torchlibrosa==0.1.0 in /home/wonjun/miniconda3/envs/AudioSep/lib/python3.10/site-packages (0.1.0)\n",
      "Collecting gradio==3.47.1\n",
      "  Downloading gradio-3.47.1-py3-none-any.whl (20.3 MB)\n",
      "\u001b[2K     \u001b[90m━━━━━━━━━━━━━━━━━━━━━━━━━━━━━━━━━━━━━━━━\u001b[0m \u001b[32m20.3/20.3 MB\u001b[0m \u001b[31m66.7 MB/s\u001b[0m eta \u001b[36m0:00:00\u001b[0m00:01\u001b[0m00:01\u001b[0m\n",
      "\u001b[?25hCollecting gdown\n",
      "  Downloading gdown-5.2.0-py3-none-any.whl (18 kB)\n",
      "Requirement already satisfied: lightning in /home/wonjun/miniconda3/envs/AudioSep/lib/python3.10/site-packages (2.0.0)\n",
      "Requirement already satisfied: transformers==4.28.1 in /home/wonjun/miniconda3/envs/AudioSep/lib/python3.10/site-packages (4.28.1)\n",
      "Requirement already satisfied: ftfy in /home/wonjun/miniconda3/envs/AudioSep/lib/python3.10/site-packages (6.1.1)\n",
      "Requirement already satisfied: braceexpand in /home/wonjun/miniconda3/envs/AudioSep/lib/python3.10/site-packages (0.1.7)\n",
      "Requirement already satisfied: webdataset in /home/wonjun/miniconda3/envs/AudioSep/lib/python3.10/site-packages (0.2.48)\n",
      "Requirement already satisfied: soundfile in /home/wonjun/miniconda3/envs/AudioSep/lib/python3.10/site-packages (0.12.1)\n",
      "Requirement already satisfied: wget in /home/wonjun/miniconda3/envs/AudioSep/lib/python3.10/site-packages (3.2)\n",
      "Requirement already satisfied: h5py in /home/wonjun/miniconda3/envs/AudioSep/lib/python3.10/site-packages (3.8.0)\n",
      "Requirement already satisfied: numpy in /home/wonjun/miniconda3/envs/AudioSep/lib/python3.10/site-packages (from torchlibrosa==0.1.0) (1.23.5)\n",
      "Requirement already satisfied: librosa>=0.8.0 in /home/wonjun/miniconda3/envs/AudioSep/lib/python3.10/site-packages (from torchlibrosa==0.1.0) (0.10.0.post2)\n",
      "Collecting httpx\n",
      "  Downloading httpx-0.28.1-py3-none-any.whl (73 kB)\n",
      "\u001b[2K     \u001b[90m━━━━━━━━━━━━━━━━━━━━━━━━━━━━━━━━━━━━━━━━\u001b[0m \u001b[32m73.5/73.5 kB\u001b[0m \u001b[31m50.9 MB/s\u001b[0m eta \u001b[36m0:00:00\u001b[0m\n",
      "\u001b[?25hRequirement already satisfied: jinja2<4.0 in /home/wonjun/miniconda3/envs/AudioSep/lib/python3.10/site-packages (from gradio==3.47.1) (3.1.5)\n",
      "Requirement already satisfied: huggingface-hub>=0.14.0 in /home/wonjun/miniconda3/envs/AudioSep/lib/python3.10/site-packages (from gradio==3.47.1) (0.14.1)\n",
      "Collecting importlib-resources<7.0,>=1.3\n",
      "  Downloading importlib_resources-6.5.2-py3-none-any.whl (37 kB)\n",
      "Collecting semantic-version~=2.0\n",
      "  Downloading semantic_version-2.10.0-py2.py3-none-any.whl (15 kB)\n",
      "Requirement already satisfied: pyyaml<7.0,>=5.0 in /home/wonjun/miniconda3/envs/AudioSep/lib/python3.10/site-packages (from gradio==3.47.1) (6.0)\n",
      "Requirement already satisfied: pillow<11.0,>=8.0 in /home/wonjun/miniconda3/envs/AudioSep/lib/python3.10/site-packages (from gradio==3.47.1) (9.5.0)\n",
      "Requirement already satisfied: requests~=2.0 in /home/wonjun/miniconda3/envs/AudioSep/lib/python3.10/site-packages (from gradio==3.47.1) (2.28.1)\n",
      "Collecting altair<6.0,>=4.2.0\n",
      "  Downloading altair-5.5.0-py3-none-any.whl (731 kB)\n",
      "\u001b[2K     \u001b[90m━━━━━━━━━━━━━━━━━━━━━━━━━━━━━━━━━━━━━━\u001b[0m \u001b[32m731.2/731.2 kB\u001b[0m \u001b[31m85.5 MB/s\u001b[0m eta \u001b[36m0:00:00\u001b[0m\n",
      "\u001b[?25hCollecting pydub\n",
      "  Downloading pydub-0.25.1-py2.py3-none-any.whl (32 kB)\n",
      "Requirement already satisfied: websockets<12.0,>=10.0 in /home/wonjun/miniconda3/envs/AudioSep/lib/python3.10/site-packages (from gradio==3.47.1) (11.0.1)\n",
      "Requirement already satisfied: matplotlib~=3.0 in /home/wonjun/miniconda3/envs/AudioSep/lib/python3.10/site-packages (from gradio==3.47.1) (3.7.1)\n",
      "Collecting ffmpy\n",
      "  Downloading ffmpy-0.5.0-py3-none-any.whl (6.0 kB)\n",
      "Collecting orjson~=3.0\n",
      "  Downloading orjson-3.10.15-cp310-cp310-manylinux_2_17_x86_64.manylinux2014_x86_64.whl (130 kB)\n",
      "\u001b[2K     \u001b[90m━━━━━━━━━━━━━━━━━━━━━━━━━━━━━━━━━━━━━━\u001b[0m \u001b[32m130.3/130.3 kB\u001b[0m \u001b[31m91.6 MB/s\u001b[0m eta \u001b[36m0:00:00\u001b[0m\n",
      "\u001b[?25hRequirement already satisfied: pandas<3.0,>=1.0 in /home/wonjun/miniconda3/envs/AudioSep/lib/python3.10/site-packages (from gradio==3.47.1) (1.5.3)\n",
      "Requirement already satisfied: uvicorn>=0.14.0 in /home/wonjun/miniconda3/envs/AudioSep/lib/python3.10/site-packages (from gradio==3.47.1) (0.21.1)\n",
      "Collecting aiofiles<24.0,>=22.0\n",
      "  Downloading aiofiles-23.2.1-py3-none-any.whl (15 kB)\n",
      "Collecting gradio-client==0.6.0\n",
      "  Downloading gradio_client-0.6.0-py3-none-any.whl (298 kB)\n",
      "\u001b[2K     \u001b[90m━━━━━━━━━━━━━━━━━━━━━━━━━━━━━━━━━━━━━━\u001b[0m \u001b[32m298.8/298.8 kB\u001b[0m \u001b[31m85.5 MB/s\u001b[0m eta \u001b[36m0:00:00\u001b[0m\n",
      "\u001b[?25hRequirement already satisfied: fastapi in /home/wonjun/miniconda3/envs/AudioSep/lib/python3.10/site-packages (from gradio==3.47.1) (0.88.0)\n",
      "Requirement already satisfied: packaging in /home/wonjun/miniconda3/envs/AudioSep/lib/python3.10/site-packages (from gradio==3.47.1) (23.0)\n",
      "Requirement already satisfied: typing-extensions~=4.0 in /home/wonjun/miniconda3/envs/AudioSep/lib/python3.10/site-packages (from gradio==3.47.1) (4.5.0)\n",
      "Collecting markupsafe~=2.0\n",
      "  Downloading MarkupSafe-2.1.5-cp310-cp310-manylinux_2_17_x86_64.manylinux2014_x86_64.whl (25 kB)\n",
      "Requirement already satisfied: pydantic!=1.8,!=1.8.1,!=2.0.0,!=2.0.1,<3.0.0,>=1.7.4 in /home/wonjun/miniconda3/envs/AudioSep/lib/python3.10/site-packages (from gradio==3.47.1) (1.10.7)\n",
      "Requirement already satisfied: python-multipart in /home/wonjun/miniconda3/envs/AudioSep/lib/python3.10/site-packages (from gradio==3.47.1) (0.0.6)\n",
      "Requirement already satisfied: regex!=2019.12.17 in /home/wonjun/miniconda3/envs/AudioSep/lib/python3.10/site-packages (from transformers==4.28.1) (2023.3.23)\n",
      "Requirement already satisfied: tqdm>=4.27 in /home/wonjun/miniconda3/envs/AudioSep/lib/python3.10/site-packages (from transformers==4.28.1) (4.64.1)\n",
      "Requirement already satisfied: filelock in /home/wonjun/miniconda3/envs/AudioSep/lib/python3.10/site-packages (from transformers==4.28.1) (3.12.0)\n",
      "Requirement already satisfied: tokenizers!=0.11.3,<0.14,>=0.11.1 in /home/wonjun/miniconda3/envs/AudioSep/lib/python3.10/site-packages (from transformers==4.28.1) (0.13.3)\n",
      "Requirement already satisfied: fsspec in /home/wonjun/miniconda3/envs/AudioSep/lib/python3.10/site-packages (from gradio-client==0.6.0->gradio==3.47.1) (2023.4.0)\n",
      "Requirement already satisfied: beautifulsoup4 in /home/wonjun/miniconda3/envs/AudioSep/lib/python3.10/site-packages (from gdown) (4.12.3)\n",
      "Requirement already satisfied: torch<4.0,>=1.11.0 in /home/wonjun/miniconda3/envs/AudioSep/lib/python3.10/site-packages (from lightning) (1.13.1)\n",
      "Requirement already satisfied: dateutils<2.0 in /home/wonjun/miniconda3/envs/AudioSep/lib/python3.10/site-packages (from lightning) (0.6.12)\n",
      "Requirement already satisfied: lightning-utilities<2.0,>=0.7.0 in /home/wonjun/miniconda3/envs/AudioSep/lib/python3.10/site-packages (from lightning) (0.8.0)\n",
      "Requirement already satisfied: click<10.0 in /home/wonjun/miniconda3/envs/AudioSep/lib/python3.10/site-packages (from lightning) (8.1.3)\n",
      "Requirement already satisfied: traitlets<7.0,>=5.3.0 in /home/wonjun/miniconda3/envs/AudioSep/lib/python3.10/site-packages (from lightning) (5.9.0)\n",
      "Requirement already satisfied: starlette<2.0 in /home/wonjun/miniconda3/envs/AudioSep/lib/python3.10/site-packages (from lightning) (0.22.0)\n",
      "Requirement already satisfied: arrow<3.0,>=1.2.0 in /home/wonjun/miniconda3/envs/AudioSep/lib/python3.10/site-packages (from lightning) (1.2.3)\n",
      "Requirement already satisfied: lightning-cloud>=0.5.31 in /home/wonjun/miniconda3/envs/AudioSep/lib/python3.10/site-packages (from lightning) (0.5.33)\n",
      "Requirement already satisfied: inquirer<5.0,>=2.10.0 in /home/wonjun/miniconda3/envs/AudioSep/lib/python3.10/site-packages (from lightning) (3.1.3)\n",
      "Requirement already satisfied: deepdiff<8.0,>=5.7.0 in /home/wonjun/miniconda3/envs/AudioSep/lib/python3.10/site-packages (from lightning) (6.3.0)\n",
      "Requirement already satisfied: starsessions<2.0,>=1.2.1 in /home/wonjun/miniconda3/envs/AudioSep/lib/python3.10/site-packages (from lightning) (1.3.0)\n",
      "Requirement already satisfied: rich<15.0,>=12.3.0 in /home/wonjun/miniconda3/envs/AudioSep/lib/python3.10/site-packages (from lightning) (13.3.3)\n",
      "Requirement already satisfied: croniter<1.4.0,>=1.3.0 in /home/wonjun/miniconda3/envs/AudioSep/lib/python3.10/site-packages (from lightning) (1.3.10)\n",
      "Requirement already satisfied: pytorch-lightning in /home/wonjun/miniconda3/envs/AudioSep/lib/python3.10/site-packages (from lightning) (2.0.1.post0)\n",
      "Requirement already satisfied: websocket-client<3.0 in /home/wonjun/miniconda3/envs/AudioSep/lib/python3.10/site-packages (from lightning) (1.8.0)\n",
      "Requirement already satisfied: urllib3<3.0 in /home/wonjun/miniconda3/envs/AudioSep/lib/python3.10/site-packages (from lightning) (1.26.14)\n",
      "Requirement already satisfied: psutil<7.0 in /home/wonjun/miniconda3/envs/AudioSep/lib/python3.10/site-packages (from lightning) (5.9.0)\n",
      "Requirement already satisfied: torchmetrics<2.0,>=0.7.0 in /home/wonjun/miniconda3/envs/AudioSep/lib/python3.10/site-packages (from lightning) (0.11.4)\n",
      "Requirement already satisfied: wcwidth>=0.2.5 in /home/wonjun/miniconda3/envs/AudioSep/lib/python3.10/site-packages (from ftfy) (0.2.6)\n",
      "Requirement already satisfied: cffi>=1.0 in /home/wonjun/miniconda3/envs/AudioSep/lib/python3.10/site-packages (from soundfile) (1.15.1)\n",
      "Collecting narwhals>=1.14.2\n",
      "  Downloading narwhals-1.28.0-py3-none-any.whl (308 kB)\n",
      "\u001b[2K     \u001b[90m━━━━━━━━━━━━━━━━━━━━━━━━━━━━━━━━━━━━━\u001b[0m \u001b[32m308.9/308.9 kB\u001b[0m \u001b[31m104.0 MB/s\u001b[0m eta \u001b[36m0:00:00\u001b[0m\n",
      "\u001b[?25hCollecting typing-extensions~=4.0\n",
      "  Downloading typing_extensions-4.12.2-py3-none-any.whl (37 kB)\n",
      "Requirement already satisfied: jsonschema>=3.0 in /home/wonjun/miniconda3/envs/AudioSep/lib/python3.10/site-packages (from altair<6.0,>=4.2.0->gradio==3.47.1) (4.23.0)\n",
      "Requirement already satisfied: python-dateutil>=2.7.0 in /home/wonjun/miniconda3/envs/AudioSep/lib/python3.10/site-packages (from arrow<3.0,>=1.2.0->lightning) (2.8.2)\n",
      "Requirement already satisfied: soupsieve>1.2 in /home/wonjun/miniconda3/envs/AudioSep/lib/python3.10/site-packages (from beautifulsoup4->gdown) (2.5)\n",
      "Requirement already satisfied: pycparser in /home/wonjun/miniconda3/envs/AudioSep/lib/python3.10/site-packages (from cffi>=1.0->soundfile) (2.21)\n",
      "Requirement already satisfied: pytz in /home/wonjun/miniconda3/envs/AudioSep/lib/python3.10/site-packages (from dateutils<2.0->lightning) (2023.3)\n",
      "Requirement already satisfied: ordered-set<4.2.0,>=4.0.2 in /home/wonjun/miniconda3/envs/AudioSep/lib/python3.10/site-packages (from deepdiff<8.0,>=5.7.0->lightning) (4.1.0)\n",
      "Requirement already satisfied: anyio<5,>=3.4.0 in /home/wonjun/miniconda3/envs/AudioSep/lib/python3.10/site-packages (from starlette<2.0->lightning) (3.6.2)\n",
      "Requirement already satisfied: aiohttp!=4.0.0a0,!=4.0.0a1 in /home/wonjun/miniconda3/envs/AudioSep/lib/python3.10/site-packages (from fsspec->gradio-client==0.6.0->gradio==3.47.1) (3.8.4)\n",
      "Requirement already satisfied: blessed>=1.19.0 in /home/wonjun/miniconda3/envs/AudioSep/lib/python3.10/site-packages (from inquirer<5.0,>=2.10.0->lightning) (1.20.0)\n",
      "Requirement already satisfied: readchar>=3.0.6 in /home/wonjun/miniconda3/envs/AudioSep/lib/python3.10/site-packages (from inquirer<5.0,>=2.10.0->lightning) (4.0.5)\n",
      "Requirement already satisfied: python-editor>=1.0.4 in /home/wonjun/miniconda3/envs/AudioSep/lib/python3.10/site-packages (from inquirer<5.0,>=2.10.0->lightning) (1.0.4)\n",
      "Requirement already satisfied: audioread>=2.1.9 in /home/wonjun/miniconda3/envs/AudioSep/lib/python3.10/site-packages (from librosa>=0.8.0->torchlibrosa==0.1.0) (3.0.0)\n",
      "Requirement already satisfied: joblib>=0.14 in /home/wonjun/miniconda3/envs/AudioSep/lib/python3.10/site-packages (from librosa>=0.8.0->torchlibrosa==0.1.0) (1.2.0)\n",
      "Requirement already satisfied: scikit-learn>=0.20.0 in /home/wonjun/miniconda3/envs/AudioSep/lib/python3.10/site-packages (from librosa>=0.8.0->torchlibrosa==0.1.0) (1.2.2)\n",
      "Requirement already satisfied: numba>=0.51.0 in /home/wonjun/miniconda3/envs/AudioSep/lib/python3.10/site-packages (from librosa>=0.8.0->torchlibrosa==0.1.0) (0.56.4)\n",
      "Requirement already satisfied: scipy>=1.2.0 in /home/wonjun/miniconda3/envs/AudioSep/lib/python3.10/site-packages (from librosa>=0.8.0->torchlibrosa==0.1.0) (1.10.1)\n",
      "Requirement already satisfied: lazy-loader>=0.1 in /home/wonjun/miniconda3/envs/AudioSep/lib/python3.10/site-packages (from librosa>=0.8.0->torchlibrosa==0.1.0) (0.2)\n",
      "Requirement already satisfied: decorator>=4.3.0 in /home/wonjun/miniconda3/envs/AudioSep/lib/python3.10/site-packages (from librosa>=0.8.0->torchlibrosa==0.1.0) (5.1.1)\n",
      "Requirement already satisfied: msgpack>=1.0 in /home/wonjun/miniconda3/envs/AudioSep/lib/python3.10/site-packages (from librosa>=0.8.0->torchlibrosa==0.1.0) (1.0.5)\n",
      "Requirement already satisfied: pooch<1.7,>=1.0 in /home/wonjun/miniconda3/envs/AudioSep/lib/python3.10/site-packages (from librosa>=0.8.0->torchlibrosa==0.1.0) (1.6.0)\n",
      "Requirement already satisfied: soxr>=0.3.2 in /home/wonjun/miniconda3/envs/AudioSep/lib/python3.10/site-packages (from librosa>=0.8.0->torchlibrosa==0.1.0) (0.3.5)\n",
      "Requirement already satisfied: six in /home/wonjun/miniconda3/envs/AudioSep/lib/python3.10/site-packages (from lightning-cloud>=0.5.31->lightning) (1.16.0)\n",
      "Requirement already satisfied: pyjwt in /home/wonjun/miniconda3/envs/AudioSep/lib/python3.10/site-packages (from lightning-cloud>=0.5.31->lightning) (2.6.0)\n",
      "Requirement already satisfied: cycler>=0.10 in /home/wonjun/miniconda3/envs/AudioSep/lib/python3.10/site-packages (from matplotlib~=3.0->gradio==3.47.1) (0.11.0)\n",
      "Requirement already satisfied: pyparsing>=2.3.1 in /home/wonjun/miniconda3/envs/AudioSep/lib/python3.10/site-packages (from matplotlib~=3.0->gradio==3.47.1) (3.0.9)\n",
      "Requirement already satisfied: kiwisolver>=1.0.1 in /home/wonjun/miniconda3/envs/AudioSep/lib/python3.10/site-packages (from matplotlib~=3.0->gradio==3.47.1) (1.4.4)\n",
      "Requirement already satisfied: fonttools>=4.22.0 in /home/wonjun/miniconda3/envs/AudioSep/lib/python3.10/site-packages (from matplotlib~=3.0->gradio==3.47.1) (4.39.3)\n",
      "Requirement already satisfied: contourpy>=1.0.1 in /home/wonjun/miniconda3/envs/AudioSep/lib/python3.10/site-packages (from matplotlib~=3.0->gradio==3.47.1) (1.0.7)\n",
      "Requirement already satisfied: idna<4,>=2.5 in /home/wonjun/miniconda3/envs/AudioSep/lib/python3.10/site-packages (from requests~=2.0->gradio==3.47.1) (3.4)\n",
      "Requirement already satisfied: charset-normalizer<3,>=2 in /home/wonjun/miniconda3/envs/AudioSep/lib/python3.10/site-packages (from requests~=2.0->gradio==3.47.1) (2.0.4)\n",
      "Requirement already satisfied: certifi>=2017.4.17 in /home/wonjun/miniconda3/envs/AudioSep/lib/python3.10/site-packages (from requests~=2.0->gradio==3.47.1) (2025.1.31)\n",
      "Requirement already satisfied: pygments<3.0.0,>=2.13.0 in /home/wonjun/miniconda3/envs/AudioSep/lib/python3.10/site-packages (from rich<15.0,>=12.3.0->lightning) (2.14.0)\n",
      "Requirement already satisfied: markdown-it-py<3.0.0,>=2.2.0 in /home/wonjun/miniconda3/envs/AudioSep/lib/python3.10/site-packages (from rich<15.0,>=12.3.0->lightning) (2.2.0)\n",
      "Requirement already satisfied: itsdangerous<3.0.0,>=2.0.1 in /home/wonjun/miniconda3/envs/AudioSep/lib/python3.10/site-packages (from starsessions<2.0,>=1.2.1->lightning) (2.1.2)\n",
      "Requirement already satisfied: h11>=0.8 in /home/wonjun/miniconda3/envs/AudioSep/lib/python3.10/site-packages (from uvicorn>=0.14.0->gradio==3.47.1) (0.14.0)\n",
      "Collecting httpcore==1.*\n",
      "  Downloading httpcore-1.0.7-py3-none-any.whl (78 kB)\n",
      "\u001b[2K     \u001b[90m━━━━━━━━━━━━━━━━━━━━━━━━━━━━━━━━━━━━━━━━\u001b[0m \u001b[32m78.6/78.6 kB\u001b[0m \u001b[31m55.1 MB/s\u001b[0m eta \u001b[36m0:00:00\u001b[0m\n",
      "\u001b[?25hRequirement already satisfied: PySocks!=1.5.7,>=1.5.6 in /home/wonjun/miniconda3/envs/AudioSep/lib/python3.10/site-packages (from requests~=2.0->gradio==3.47.1) (1.7.1)\n",
      "Requirement already satisfied: aiosignal>=1.1.2 in /home/wonjun/miniconda3/envs/AudioSep/lib/python3.10/site-packages (from aiohttp!=4.0.0a0,!=4.0.0a1->fsspec->gradio-client==0.6.0->gradio==3.47.1) (1.3.1)\n",
      "Requirement already satisfied: async-timeout<5.0,>=4.0.0a3 in /home/wonjun/miniconda3/envs/AudioSep/lib/python3.10/site-packages (from aiohttp!=4.0.0a0,!=4.0.0a1->fsspec->gradio-client==0.6.0->gradio==3.47.1) (4.0.2)\n",
      "Requirement already satisfied: multidict<7.0,>=4.5 in /home/wonjun/miniconda3/envs/AudioSep/lib/python3.10/site-packages (from aiohttp!=4.0.0a0,!=4.0.0a1->fsspec->gradio-client==0.6.0->gradio==3.47.1) (6.0.4)\n",
      "Requirement already satisfied: yarl<2.0,>=1.0 in /home/wonjun/miniconda3/envs/AudioSep/lib/python3.10/site-packages (from aiohttp!=4.0.0a0,!=4.0.0a1->fsspec->gradio-client==0.6.0->gradio==3.47.1) (1.8.2)\n",
      "Requirement already satisfied: frozenlist>=1.1.1 in /home/wonjun/miniconda3/envs/AudioSep/lib/python3.10/site-packages (from aiohttp!=4.0.0a0,!=4.0.0a1->fsspec->gradio-client==0.6.0->gradio==3.47.1) (1.3.3)\n",
      "Requirement already satisfied: attrs>=17.3.0 in /home/wonjun/miniconda3/envs/AudioSep/lib/python3.10/site-packages (from aiohttp!=4.0.0a0,!=4.0.0a1->fsspec->gradio-client==0.6.0->gradio==3.47.1) (24.3.0)\n",
      "Requirement already satisfied: sniffio>=1.1 in /home/wonjun/miniconda3/envs/AudioSep/lib/python3.10/site-packages (from anyio<5,>=3.4.0->starlette<2.0->lightning) (1.3.0)\n",
      "Requirement already satisfied: jsonschema-specifications>=2023.03.6 in /home/wonjun/miniconda3/envs/AudioSep/lib/python3.10/site-packages (from jsonschema>=3.0->altair<6.0,>=4.2.0->gradio==3.47.1) (2023.7.1)\n",
      "Requirement already satisfied: rpds-py>=0.7.1 in /home/wonjun/miniconda3/envs/AudioSep/lib/python3.10/site-packages (from jsonschema>=3.0->altair<6.0,>=4.2.0->gradio==3.47.1) (0.22.3)\n",
      "Requirement already satisfied: referencing>=0.28.4 in /home/wonjun/miniconda3/envs/AudioSep/lib/python3.10/site-packages (from jsonschema>=3.0->altair<6.0,>=4.2.0->gradio==3.47.1) (0.30.2)\n",
      "Requirement already satisfied: mdurl~=0.1 in /home/wonjun/miniconda3/envs/AudioSep/lib/python3.10/site-packages (from markdown-it-py<3.0.0,>=2.2.0->rich<15.0,>=12.3.0->lightning) (0.1.2)\n",
      "Requirement already satisfied: llvmlite<0.40,>=0.39.0dev0 in /home/wonjun/miniconda3/envs/AudioSep/lib/python3.10/site-packages (from numba>=0.51.0->librosa>=0.8.0->torchlibrosa==0.1.0) (0.39.1)\n",
      "Requirement already satisfied: setuptools in /home/wonjun/miniconda3/envs/AudioSep/lib/python3.10/site-packages (from numba>=0.51.0->librosa>=0.8.0->torchlibrosa==0.1.0) (65.6.3)\n",
      "Requirement already satisfied: appdirs>=1.3.0 in /home/wonjun/miniconda3/envs/AudioSep/lib/python3.10/site-packages (from pooch<1.7,>=1.0->librosa>=0.8.0->torchlibrosa==0.1.0) (1.4.4)\n",
      "Requirement already satisfied: threadpoolctl>=2.0.0 in /home/wonjun/miniconda3/envs/AudioSep/lib/python3.10/site-packages (from scikit-learn>=0.20.0->librosa>=0.8.0->torchlibrosa==0.1.0) (3.1.0)\n",
      "Installing collected packages: pydub, typing-extensions, semantic-version, orjson, narwhals, markupsafe, importlib-resources, httpcore, ffmpy, aiofiles, httpx, gradio-client, gdown, altair, gradio\n",
      "  Attempting uninstall: typing-extensions\n",
      "    Found existing installation: typing_extensions 4.5.0\n",
      "    Uninstalling typing_extensions-4.5.0:\n",
      "      Successfully uninstalled typing_extensions-4.5.0\n",
      "  Attempting uninstall: markupsafe\n",
      "    Found existing installation: MarkupSafe 3.0.2\n",
      "    Uninstalling MarkupSafe-3.0.2:\n",
      "      Successfully uninstalled MarkupSafe-3.0.2\n",
      "Successfully installed aiofiles-23.2.1 altair-5.5.0 ffmpy-0.5.0 gdown-5.2.0 gradio-3.47.1 gradio-client-0.6.0 httpcore-1.0.7 httpx-0.28.1 importlib-resources-6.5.2 markupsafe-2.1.5 narwhals-1.28.0 orjson-3.10.15 pydub-0.25.1 semantic-version-2.10.0 typing-extensions-4.12.2\n"
     ]
    }
   ],
   "source": [
    "!pip install torchlibrosa==0.1.0 gradio==3.47.1 gdown lightning transformers==4.28.1 ftfy braceexpand webdataset soundfile wget h5py"
   ]
  },
  {
   "cell_type": "code",
   "execution_count": 2,
   "metadata": {
    "id": "t6h9KB3CcjBd"
   },
   "outputs": [],
   "source": [
    "checkpoints_dir = Path(\"checkpoint\")\n",
    "checkpoints_dir.mkdir(exist_ok=True)\n",
    "\n",
    "models = (\n",
    "    (\n",
    "        \"https://huggingface.co/spaces/badayvedat/AudioSep/resolve/main/checkpoint/audiosep_base_4M_steps.ckpt\",\n",
    "        checkpoints_dir / \"audiosep_base_4M_steps.ckpt\"\n",
    "    ),\n",
    "    (\n",
    "        \"https://huggingface.co/spaces/badayvedat/AudioSep/resolve/main/checkpoint/music_speech_audioset_epoch_15_esc_89.98.pt\",\n",
    "        checkpoints_dir / \"music_speech_audioset_epoch_15_esc_89.98.pt\"\n",
    "    )\n",
    ")\n",
    "\n",
    "for model_url, model_path in models:\n",
    "    if not model_path.exists():\n",
    "        !wget {model_url} -O {model_path}"
   ]
  },
  {
   "cell_type": "code",
   "execution_count": 3,
   "metadata": {
    "id": "3uDrzCQyY58h"
   },
   "outputs": [
    {
     "name": "stdout",
     "output_type": "stream",
     "text": [
      "--2025-02-25 12:30:28--  https://audio-agi.github.io/Separate-Anything-You-Describe/demos/exp31_water%20drops_mixture.wav\n",
      "Resolving audio-agi.github.io (audio-agi.github.io)... 185.199.111.153, 185.199.108.153, 185.199.110.153, ...\n",
      "Connecting to audio-agi.github.io (audio-agi.github.io)|185.199.111.153|:443... connected.\n",
      "HTTP request sent, awaiting response... 200 OK\n",
      "Length: 320044 (313K) [audio/wav]\n",
      "Saving to: ‘exp31_water drops_mixture.wav’\n",
      "\n",
      "exp31_water drops_m 100%[===================>] 312.54K  --.-KB/s    in 0.007s  \n",
      "\n",
      "2025-02-25 12:30:29 (44.9 MB/s) - ‘exp31_water drops_mixture.wav’ saved [320044/320044]\n",
      "\n"
     ]
    }
   ],
   "source": [
    "!wget \"https://audio-agi.github.io/Separate-Anything-You-Describe/demos/exp31_water drops_mixture.wav\""
   ]
  },
  {
   "cell_type": "code",
   "execution_count": 3,
   "metadata": {
    "id": "0nr77CGXTwO1"
   },
   "outputs": [
    {
     "name": "stderr",
     "output_type": "stream",
     "text": [
      "/home/wonjun/miniconda3/envs/AudioSep/lib/python3.10/site-packages/tqdm/auto.py:22: TqdmWarning: IProgress not found. Please update jupyter and ipywidgets. See https://ipywidgets.readthedocs.io/en/stable/user_install.html\n",
      "  from .autonotebook import tqdm as notebook_tqdm\n",
      "/home/wonjun/miniconda3/envs/AudioSep/lib/python3.10/site-packages/torch/functional.py:504: UserWarning: torch.meshgrid: in an upcoming release, it will be required to pass the indexing argument. (Triggered internally at /opt/conda/conda-bld/pytorch_1670525552843/work/aten/src/ATen/native/TensorShape.cpp:3190.)\n",
      "  return _VF.meshgrid(tensors, **kwargs)  # type: ignore[attr-defined]\n",
      "Some weights of the model checkpoint at roberta-base were not used when initializing RobertaModel: ['lm_head.layer_norm.weight', 'lm_head.bias', 'lm_head.dense.weight', 'lm_head.layer_norm.bias', 'lm_head.dense.bias', 'lm_head.decoder.weight']\n",
      "- This IS expected if you are initializing RobertaModel from the checkpoint of a model trained on another task or with another architecture (e.g. initializing a BertForSequenceClassification model from a BertForPreTraining model).\n",
      "- This IS NOT expected if you are initializing RobertaModel from the checkpoint of a model that you expect to be exactly identical (initializing a BertForSequenceClassification model from a BertForSequenceClassification model).\n",
      "Some weights of the model checkpoint at roberta-base were not used when initializing RobertaModel: ['lm_head.layer_norm.weight', 'lm_head.bias', 'lm_head.dense.weight', 'lm_head.layer_norm.bias', 'lm_head.dense.bias', 'lm_head.decoder.weight']\n",
      "- This IS expected if you are initializing RobertaModel from the checkpoint of a model trained on another task or with another architecture (e.g. initializing a BertForSequenceClassification model from a BertForPreTraining model).\n",
      "- This IS NOT expected if you are initializing RobertaModel from the checkpoint of a model that you expect to be exactly identical (initializing a BertForSequenceClassification model from a BertForSequenceClassification model).\n"
     ]
    },
    {
     "name": "stdout",
     "output_type": "stream",
     "text": [
      "Loaded AudioSep model from [checkpoint/audiosep_base_4M_steps.ckpt]\n",
      "Separating audio from [exp31_water drops_mixture.wav] with textual query: [water drops]\n",
      "Separated audio written to [separated_audio.wav]\n"
     ]
    }
   ],
   "source": [
    "import torch\n",
    "from pipeline import build_audiosep, separate_audio\n",
    "\n",
    "device = torch.device('cuda' if torch.cuda.is_available() else 'cpu')\n",
    "\n",
    "model = build_audiosep(\n",
    "      config_yaml='config/audiosep_base.yaml',\n",
    "      checkpoint_path=str(models[0][1]),\n",
    "      device=device)\n",
    "\n",
    "audio_file = 'exp31_water drops_mixture.wav'\n",
    "text = 'water drops'\n",
    "output_file='separated_audio.wav'\n",
    "\n",
    "# AudioSep processes the audio at 32 kHz sampling rate\n",
    "separate_audio(model, audio_file, text, output_file, device)"
   ]
  },
  {
   "cell_type": "code",
   "execution_count": null,
   "metadata": {
    "id": "kssOe0pbPSWp"
   },
   "outputs": [],
   "source": [
    "print(f\"The separated audio is saved to: '{output_file}' file.\")"
   ]
  },
  {
   "cell_type": "code",
   "execution_count": null,
   "metadata": {
    "id": "sl35U3dAR6KN"
   },
   "outputs": [],
   "source": []
  }
 ],
 "metadata": {
  "colab": {
   "provenance": []
  },
  "kernelspec": {
   "display_name": "Python 3 (ipykernel)",
   "language": "python",
   "name": "python3"
  },
  "language_info": {
   "codemirror_mode": {
    "name": "ipython",
    "version": 3
   },
   "file_extension": ".py",
   "mimetype": "text/x-python",
   "name": "python",
   "nbconvert_exporter": "python",
   "pygments_lexer": "ipython3",
   "version": "3.10.9"
  }
 },
 "nbformat": 4,
 "nbformat_minor": 4
}
